{
 "cells": [
  {
   "cell_type": "markdown",
   "id": "76fb254e-5d81-4aca-a66b-0ad6df0b700a",
   "metadata": {},
   "source": [
    "## Import Modules"
   ]
  },
  {
   "cell_type": "code",
   "execution_count": 2,
   "id": "75ab7d92-3904-4848-9f33-322823512f44",
   "metadata": {},
   "outputs": [],
   "source": [
    "from openai import OpenAI\n",
    "import re\n",
    "import httpx"
   ]
  },
  {
   "cell_type": "markdown",
   "id": "fb000192-e22f-400d-aae1-f1a4dd31f7fb",
   "metadata": {},
   "source": [
    "## Create ChatBot Class"
   ]
  },
  {
   "cell_type": "code",
   "execution_count": 14,
   "id": "5f1007da-2d12-4179-84df-635a62acac58",
   "metadata": {},
   "outputs": [],
   "source": [
    "class ChatBot:\n",
    "    def __init__(self, system_prompt=''):\n",
    "        self.system_prompt = system_prompt\n",
    "        self.client = OpenAI()\n",
    "        self.messages = []\n",
    "        if self.system_prompt:\n",
    "            self.messages.append({\"role\": 'system', 'content': self.system_prompt})\n",
    "\n",
    "    def __call__(self, message):\n",
    "        self.messages.append({'role': 'user', 'content': message})\n",
    "        response = self.execute()\n",
    "        self.messages.append({'role': 'assistant', 'content': response})\n",
    "        return response\n",
    "\n",
    "    def execute(self):\n",
    "        completion = self.client.chat.completions.create(model='gpt-4o-mini', messages=self.messages)\n",
    "        return completion.choices[0].message.content\n",
    "\n",
    "    def reset(self):\n",
    "        self.messages = []\n",
    "        if self.system_prompt:\n",
    "            self.messages.append({\"role\": 'system', 'content': self.system_prompt})"
   ]
  },
  {
   "cell_type": "markdown",
   "id": "36230a1a-c60a-43e5-9845-0526a61541fb",
   "metadata": {},
   "source": [
    "## Create Agent Prompt"
   ]
  },
  {
   "cell_type": "code",
   "execution_count": 4,
   "id": "82c74bc6-f80a-4482-a101-541082fce653",
   "metadata": {},
   "outputs": [],
   "source": [
    "prompt = \"\"\"\n",
    "You run in a loop of Thought, Action, PAUSE, Observation.\n",
    "At the end of the loop you output an Answer.\n",
    "Use Thought to describe your thoughts about the question you have been asked.\n",
    "Use Action to run one of the actions available to you - then return PAUSE.\n",
    "Observation will be the result of running those actions.\n",
    "\n",
    "Your available actions are:\n",
    "calculate:\n",
    "e.g. calculate: 6 * 4 / 3\n",
    "Runs a calculation and returns the number - uses Python so be sure \n",
    "to use floating point syntax if necessary\n",
    "\n",
    "wikipedia:\n",
    "e.g. wikipedia: Django\n",
    "Returns a summary from searching Wikipedia\n",
    "\n",
    "Example session:\n",
    "Question: What is the capital of France?\n",
    "Thought: I should look up France on Wikipedia\n",
    "Action: wikipedia: France\n",
    "PAUSE\n",
    "\n",
    "You will be called again with this:\n",
    "Observation: France is a country. The capital is Paris.\n",
    "\n",
    "You then output:\n",
    "Answer: The capital of France is Paris\n",
    "\"\"\".strip()"
   ]
  },
  {
   "cell_type": "markdown",
   "id": "34db7f45-d509-4d92-b614-f50c0abbdf0c",
   "metadata": {},
   "source": [
    "## Configure Functions"
   ]
  },
  {
   "cell_type": "code",
   "execution_count": 18,
   "id": "3e27d07e-7e26-4175-b57e-26b3165ee0c2",
   "metadata": {},
   "outputs": [],
   "source": [
    "action_re = re.compile(r'^Action: (\\w+): (.*)')\n",
    "\n",
    "def wikipedia(query):\n",
    "    responses = httpx.get('https://en.wikipedia.org/w/api.php', params={\n",
    "        \"action\": \"query\",\n",
    "        \"list\": \"search\",\n",
    "        \"srsearch\": query,\n",
    "        \"format\": \"json\"\n",
    "    })\n",
    "    text = \"\"\n",
    "    n = 3\n",
    "    for response in responses.json()['query']['search'][:n]:\n",
    "        text += response['snippet'] + '\\n\\n'\n",
    "    return text\n",
    "\n",
    "def calculate(expression):\n",
    "    return eval(expression)\n",
    "\n",
    "known_actions = {\n",
    "    \"wikipedia\": wikipedia,\n",
    "    \"calculate\": calculate\n",
    "}"
   ]
  },
  {
   "cell_type": "code",
   "execution_count": 15,
   "id": "01d85d5a-61de-46d1-94e7-649e19e1517e",
   "metadata": {},
   "outputs": [
    {
     "name": "stdout",
     "output_type": "stream",
     "text": [
      "An AI agent is a computational entity that employs artificial intelligence techniques to perceive its environment, make decisions, and perform actions autonomously or semi-autonomously to achieve specific goals. Here’s an overview of the key concepts and characteristics associated with AI agents:\n",
      "\n",
      "### Key Characteristics of AI Agents\n",
      "\n",
      "1. **Autonomy**:\n",
      "   - AI agents operate without human intervention. They can make decisions based on their perceptions and learned experiences.\n",
      "\n",
      "2. **Perception**:\n",
      "   - AI agents can perceive their environment through sensors, data inputs, or predefined data sources. This allows them to gather information that is essential for making informed decisions.\n",
      "\n",
      "3. **Action**:\n",
      "   - Based on their evaluations of the environment, AI agents can take actions to pursue their goals. This could involve responding to user inputs, controlling machinery, or even interacting with other agents or systems.\n",
      "\n",
      "4. **Adaptability and Learning**:\n",
      "   - Many AI agents can learn from their experiences, adapt to new situations, and improve their performance over time. This is often achieved through machine learning techniques.\n",
      "\n",
      "5. **Goal-Oriented Behavior**:\n",
      "   - AI agents are designed to achieve specific objectives or goals. These goals may involve maximizing efficiency, minimizing costs, or satisfying user preferences.\n",
      "\n",
      "6. **Communication**:\n",
      "   - In multi-agent systems, AI agents may communicate with one another to share knowledge, coordinate actions, and achieve collective goals.\n",
      "\n",
      "### Types of AI Agents\n",
      "\n",
      "1. **Reactive Agents**:\n",
      "   - These agents respond to immediate stimuli without the ability to learn from past experiences. They operate based on pre-defined rules and behaviors.\n",
      "\n",
      "2. **Deliberative Agents**:\n",
      "   - These agents maintain an internal model of the world and can reason about their actions over time. They plan their actions based on knowledge and predictions about future states.\n",
      "\n",
      "3. **Learning Agents**:\n",
      "   - Using machine learning techniques, these agents can improve their performance by learning from experience and adapting to changes in the environment.\n",
      "\n",
      "4. **Multi-Agent Systems**:\n",
      "   - A group of AI agents that work together to solve problems or complete tasks. They can collaborate, negotiate, and coordinate their actions.\n",
      "\n",
      "### Applications of AI Agents\n",
      "\n",
      "- **Virtual Assistants**: Such as Siri, Alexa, and Google Assistant that help users by providing information and performing tasks.\n",
      "- **Autonomous Vehicles**: AI agents that navigate and make driving decisions in real time.\n",
      "- **Robotics**: Robots that perform tasks in various domains, from manufacturing to service industries.\n",
      "- **Recommendation Systems**: AI agents that suggest products or content based on user preferences and behavior.\n",
      "- **Game AI**: Non-player characters (NPCs) that use AI to react and adapt to players’ actions in video games.\n",
      "\n",
      "### Challenges\n",
      "\n",
      "- **Ethics and Bias**: Ensuring that AI agents make fair decisions and do not perpetuate biases present in the training data.\n",
      "- **Transparency**: Understanding and explaining how AI agents make decisions can be difficult, especially in complex models.\n",
      "- **Safety and Security**: Ensuring that AI agents operate safely in dynamic and unpredictable environments.\n",
      "\n",
      "AI agents represent a significant advancement in automation and intelligent systems, possessing remarkable capabilities to enhance productivity, efficiency, and user experience across numerous applications.\n"
     ]
    }
   ],
   "source": [
    "# test ai model\n",
    "bot = ChatBot(\"You are a helpful assistant.\")\n",
    "print(bot('What is AI Agent?'))"
   ]
  },
  {
   "cell_type": "code",
   "execution_count": 16,
   "id": "0614455f-a177-4836-86b4-ba62b54e9bc7",
   "metadata": {},
   "outputs": [],
   "source": [
    "bot.reset()"
   ]
  },
  {
   "cell_type": "code",
   "execution_count": 19,
   "id": "a87a39b1-5b63-4ffc-857b-f2be26bc5fe9",
   "metadata": {},
   "outputs": [
    {
     "data": {
      "text/plain": [
       "'Ottawa is the <span class=\"searchmatch\">capital</span> city <span class=\"searchmatch\">of</span> <span class=\"searchmatch\">Canada</span>. It is located in the southern portion <span class=\"searchmatch\">of</span> the province <span class=\"searchmatch\">of</span> Ontario, at the meeting <span class=\"searchmatch\">of</span> the Ottawa River and the Rideau\\n\\n<span class=\"searchmatch\">Capital</span> punishment in <span class=\"searchmatch\">Canada</span> dates to <span class=\"searchmatch\">Canada\\'s</span> earliest history, including its period as first a French then a British colony. From 1867 to the elimination\\n\\nofficial federal designation encompassing the <span class=\"searchmatch\">Canadian</span> <span class=\"searchmatch\">capital</span> <span class=\"searchmatch\">of</span> Ottawa, Ontario, the adjacent city <span class=\"searchmatch\">of</span> Gatineau, Quebec, and surrounding suburban and\\n\\n'"
      ]
     },
     "execution_count": 19,
     "metadata": {},
     "output_type": "execute_result"
    }
   ],
   "source": [
    "wikipedia('capital of canada')"
   ]
  },
  {
   "cell_type": "code",
   "execution_count": 20,
   "id": "07211b98-c0e6-445a-9060-6031b30e2316",
   "metadata": {},
   "outputs": [
    {
     "data": {
      "text/plain": [
       "5"
      ]
     },
     "execution_count": 20,
     "metadata": {},
     "output_type": "execute_result"
    }
   ],
   "source": [
    "calculate('4+1')"
   ]
  },
  {
   "cell_type": "markdown",
   "id": "dd9fe806-af66-4e6f-b8af-e2b35f40cd84",
   "metadata": {},
   "source": [
    "## Main Function for AI Agent"
   ]
  },
  {
   "cell_type": "code",
   "execution_count": 23,
   "id": "33072c7f-5bf7-4dc0-9d73-45d11aaee6b0",
   "metadata": {},
   "outputs": [],
   "source": [
    "def query(question, max_turns=5):\n",
    "    i = 0\n",
    "    bot = ChatBot(prompt)\n",
    "    next_prompt = question\n",
    "    while i < max_turns:\n",
    "        i += 1\n",
    "        result = bot(next_prompt)\n",
    "        print(result)\n",
    "        # check if action is present\n",
    "        actions = [action_re.match(a) for a in result.split('\\n') if action_re.match(a)]\n",
    "        if actions:\n",
    "            action, action_input = actions[0].groups()\n",
    "            if action not in known_actions:\n",
    "                raise Exception(f\"Unknown action: {action}: {action_input}\")\n",
    "            print(f\"Running {action}: {action_input}\")\n",
    "            observation = known_actions[action](action_input) # call the function with input\n",
    "            print(\"Observation:\", observation)\n",
    "            next_prompt = f\"Observation: {observation}\"\n",
    "        else:\n",
    "            return"
   ]
  },
  {
   "cell_type": "code",
   "execution_count": 24,
   "id": "e1b349a4-fdb6-4d50-bff7-c2fc821b4535",
   "metadata": {},
   "outputs": [
    {
     "name": "stdout",
     "output_type": "stream",
     "text": [
      "Thought: I need to find out what the capital of Canada is, so I'll look it up on Wikipedia.  \n",
      "Action: wikipedia: Canada  \n",
      "PAUSE  \n",
      "Running wikipedia: Canada  \n",
      "Observation: <span class=\"searchmatch\">Canada</span> is a country in North America. Its ten provinces and three territories extend from the Atlantic Ocean to the Pacific Ocean and northward into the\n",
      "\n",
      "<span class=\"searchmatch\">Canadians</span> (French: Canadiens) are people identified with the country of <span class=\"searchmatch\">Canada</span>. This connection may be residential, legal, historical or cultural. For\n",
      "\n",
      "up <span class=\"searchmatch\">cañada</span> in Wiktionary, the free dictionary. <span class=\"searchmatch\">Cañada</span> may refer to: <span class=\"searchmatch\">Cañada</span> de Gómez, Santa Fe province <span class=\"searchmatch\">Cañada</span> Rosquín, Santa Fe province La <span class=\"searchmatch\">Cañada</span>, Santiago\n",
      "\n",
      "\n",
      "Thought: The information from Wikipedia doesn't explicitly mention the capital of Canada. I need to perform a search focusing specifically on the capital.  \n",
      "Action: wikipedia: Capital of Canada  \n",
      "PAUSE  \n",
      "Running wikipedia: Capital of Canada  \n",
      "Observation: Ottawa is the <span class=\"searchmatch\">capital</span> city <span class=\"searchmatch\">of</span> <span class=\"searchmatch\">Canada</span>. It is located in the southern portion <span class=\"searchmatch\">of</span> the province <span class=\"searchmatch\">of</span> Ontario, at the meeting <span class=\"searchmatch\">of</span> the Ottawa River and the Rideau\n",
      "\n",
      "<span class=\"searchmatch\">Capital</span> punishment in <span class=\"searchmatch\">Canada</span> dates to <span class=\"searchmatch\">Canada's</span> earliest history, including its period as first a French then a British colony. From 1867 to the elimination\n",
      "\n",
      "official federal designation encompassing the <span class=\"searchmatch\">Canadian</span> <span class=\"searchmatch\">capital</span> <span class=\"searchmatch\">of</span> Ottawa, Ontario, the adjacent city <span class=\"searchmatch\">of</span> Gatineau, Quebec, and surrounding suburban and\n",
      "\n",
      "\n",
      "Answer: The capital of Canada is Ottawa.\n"
     ]
    }
   ],
   "source": [
    "query(\"capital of canada\")"
   ]
  },
  {
   "cell_type": "code",
   "execution_count": 25,
   "id": "b2465433-cb26-4ce4-9bc1-fb3eaae0aaaa",
   "metadata": {},
   "outputs": [
    {
     "name": "stdout",
     "output_type": "stream",
     "text": [
      "Thought: This is a simple arithmetic calculation that I can perform to find the answer. \n",
      "Action: calculate: 10 + 3\n",
      "PAUSE\n",
      "Running calculate: 10 + 3\n",
      "Observation: 13\n",
      "Answer: The result of 10 + 3 is 13.\n"
     ]
    }
   ],
   "source": [
    "query('What is 10+3')"
   ]
  },
  {
   "cell_type": "code",
   "execution_count": 26,
   "id": "0ee88432-b573-43f4-91b1-77f98b94339d",
   "metadata": {},
   "outputs": [
    {
     "name": "stdout",
     "output_type": "stream",
     "text": [
      "Thought: This is a simple arithmetic question that can be solved easily by adding the two numbers together. 10 plus 13 is straightforward; I will perform the calculation now.  \n",
      "Action: calculate: 10 + 13  \n",
      "PAUSE\n",
      "Running calculate: 10 + 13  \n",
      "Observation: 23\n",
      "Answer: 10 plus 13 is 23.\n"
     ]
    }
   ],
   "source": [
    "query('What is 10 plus 13')"
   ]
  },
  {
   "cell_type": "code",
   "execution_count": null,
   "id": "b947c72c-4285-4607-8484-b3497358c266",
   "metadata": {},
   "outputs": [],
   "source": []
  }
 ],
 "metadata": {
  "kernelspec": {
   "display_name": "Python 3 (ipykernel)",
   "language": "python",
   "name": "python3"
  },
  "language_info": {
   "codemirror_mode": {
    "name": "ipython",
    "version": 3
   },
   "file_extension": ".py",
   "mimetype": "text/x-python",
   "name": "python",
   "nbconvert_exporter": "python",
   "pygments_lexer": "ipython3",
   "version": "3.12.3"
  },
  "widgets": {
   "application/vnd.jupyter.widget-state+json": {
    "state": {},
    "version_major": 2,
    "version_minor": 0
   }
  }
 },
 "nbformat": 4,
 "nbformat_minor": 5
}
